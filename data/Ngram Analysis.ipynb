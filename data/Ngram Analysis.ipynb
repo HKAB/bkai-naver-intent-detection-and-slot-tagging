{
 "cells": [
  {
   "cell_type": "code",
   "execution_count": 60,
   "id": "fc430a8c-7adb-45aa-a6c6-9cbdc8e7a5f4",
   "metadata": {},
   "outputs": [],
   "source": [
    "from sklearn.feature_extraction.text import CountVectorizer\n",
    "import nltk, re, string, collections\n",
    "from nltk.util import ngrams # function for making ngrams"
   ]
  },
  {
   "cell_type": "code",
   "execution_count": 61,
   "id": "724e221f-7395-4553-8310-bc1f28d2883a",
   "metadata": {},
   "outputs": [],
   "source": [
    "with open('./training_data/O_seq.in', 'r') as fr:\n",
    "    text = fr.read().splitlines()\n",
    "with open('./training_data/O_label', 'r') as fr:\n",
    "    intent = fr.read().splitlines()"
   ]
  },
  {
   "cell_type": "code",
   "execution_count": 62,
   "id": "37767272-7f3f-4b2d-96fa-dd2169acc3dd",
   "metadata": {},
   "outputs": [],
   "source": [
    "text = \" . \".join(s for s in text)\n",
    "tokenized = text.split()"
   ]
  },
  {
   "cell_type": "code",
   "execution_count": 69,
   "id": "b46c61df-f431-440c-b25d-ab6168b0bda3",
   "metadata": {},
   "outputs": [],
   "source": [
    "unigram = ngrams(tokenized, 1)"
   ]
  },
  {
   "cell_type": "code",
   "execution_count": 70,
   "id": "c46a4d50-4faa-4a15-91bc-2c397401b065",
   "metadata": {},
   "outputs": [
    {
     "data": {
      "text/plain": [
       "[(('.',), 1789),\n",
       " (('mình',), 661),\n",
       " (('giúp',), 533),\n",
       " (('ở',), 497),\n",
       " (('mức',), 459),\n",
       " (('nhé',), 355),\n",
       " (('bạn',), 353),\n",
       " (('lên',), 304),\n",
       " (('tôi',), 259),\n",
       " (('giảm',), 240),\n",
       " (('tăng',), 223),\n",
       " (('với',), 206),\n",
       " (('tra',), 204),\n",
       " (('kiểm',), 194),\n",
       " (('xuống',), 190)]"
      ]
     },
     "execution_count": 70,
     "metadata": {},
     "output_type": "execute_result"
    }
   ],
   "source": [
    "freq = collections.Counter(unigram)\n",
    "freq.most_common(15)"
   ]
  },
  {
   "cell_type": "code",
   "execution_count": 63,
   "id": "f340106c-f39e-4972-92b0-cc04d7488ba6",
   "metadata": {},
   "outputs": [],
   "source": [
    "bigram = ngrams(tokenized, 2)"
   ]
  },
  {
   "cell_type": "code",
   "execution_count": 64,
   "id": "06fbd9a7-9b05-45eb-a892-80cb56ce82af",
   "metadata": {},
   "outputs": [
    {
     "data": {
      "text/plain": [
       "[(('giúp', 'mình'), 333),\n",
       " (('nhé', '.'), 300),\n",
       " (('mức', '.'), 195),\n",
       " (('kiểm', 'tra'), 194),\n",
       " (('.', 'bạn'), 192),\n",
       " (('với', '.'), 176),\n",
       " (('giúp', 'tôi'), 139),\n",
       " (('ở', 'mức'), 130),\n",
       " (('.', 'giúp'), 125),\n",
       " (('cho', 'mình'), 120),\n",
       " (('bạn', 'giúp'), 118),\n",
       " (('thiết', 'bị'), 115),\n",
       " (('ở', '.'), 110),\n",
       " (('.', 'giảm'), 110),\n",
       " (('mình', 'ở'), 100)]"
      ]
     },
     "execution_count": 64,
     "metadata": {},
     "output_type": "execute_result"
    }
   ],
   "source": [
    "freq = collections.Counter(bigram)\n",
    "freq.most_common(15)"
   ]
  },
  {
   "cell_type": "code",
   "execution_count": 65,
   "id": "0f8203cf-9afb-4018-9fab-871107f21ac9",
   "metadata": {},
   "outputs": [],
   "source": [
    "trigram = ngrams(tokenized, 3)"
   ]
  },
  {
   "cell_type": "code",
   "execution_count": 66,
   "id": "bdfd2e41-d09b-460b-abbb-781c90158166",
   "metadata": {},
   "outputs": [
    {
     "data": {
      "text/plain": [
       "[(('bạn', 'giúp', 'mình'), 102),\n",
       " (('.', 'kiểm', 'tra'), 95),\n",
       " (('.', 'giúp', 'mình'), 75),\n",
       " (('.', 'bạn', 'giúp'), 72),\n",
       " (('mình', 'với', '.'), 71),\n",
       " (('.', 'trợ', 'lý'), 62),\n",
       " (('ở', 'nhé', '.'), 60),\n",
       " (('được', 'không', '.'), 60),\n",
       " (('ở', 'mức', '.'), 60),\n",
       " (('.', 'mình', 'muốn'), 59),\n",
       " (('trạng', 'thái', 'của'), 55),\n",
       " (('giúp', 'mình', 'tăng'), 50),\n",
       " (('.', 'cho', 'mình'), 50),\n",
       " (('xuống', 'mức', '.'), 50),\n",
       " (('kiểm', 'tra', 'giúp'), 50)]"
      ]
     },
     "execution_count": 66,
     "metadata": {},
     "output_type": "execute_result"
    }
   ],
   "source": [
    "freq = collections.Counter(trigram)\n",
    "freq.most_common(15)"
   ]
  },
  {
   "cell_type": "code",
   "execution_count": 67,
   "id": "2c552c71-d5ab-4831-99a2-0a9f22536a1d",
   "metadata": {},
   "outputs": [],
   "source": [
    "fourgram = ngrams(tokenized, 4)"
   ]
  },
  {
   "cell_type": "code",
   "execution_count": 68,
   "id": "ad3e7933-fd21-49c8-9037-0ef7b9604c66",
   "metadata": {},
   "outputs": [
    {
     "data": {
      "text/plain": [
       "[(('.', 'bạn', 'giúp', 'mình'), 67),\n",
       " (('kiểm', 'tra', 'trạng', 'thái'), 45),\n",
       " (('.', 'bạn', 'có', 'thể'), 39),\n",
       " (('.', 'ở', 'mức', '.'), 35),\n",
       " (('.', 'kiểm', 'tra', 'trạng'), 35),\n",
       " (('giúp', 'mình', 'nhé', '.'), 30),\n",
       " (('giúp', 'mình', 'với', '.'), 30),\n",
       " (('bạn', 'có', 'thể', 'giúp'), 29),\n",
       " (('bạn', 'giúp', 'mình', 'tăng'), 25),\n",
       " (('.', 'cho', 'mình', 'ở'), 25),\n",
       " (('kiểm', 'tra', 'cho', 'mình'), 25),\n",
       " (('cho', 'mình', 'với', '.'), 25),\n",
       " (('tra', 'trạng', 'thái', 'của'), 25),\n",
       " (('nhé', '.', 'kiểm', 'tra'), 25),\n",
       " (('kiểm', 'tra', 'giúp', 'tôi'), 25)]"
      ]
     },
     "execution_count": 68,
     "metadata": {},
     "output_type": "execute_result"
    }
   ],
   "source": [
    "freq = collections.Counter(fourgram)\n",
    "freq.most_common(15)"
   ]
  }
 ],
 "metadata": {
  "kernelspec": {
   "display_name": "Python 3",
   "language": "python",
   "name": "python3"
  },
  "language_info": {
   "codemirror_mode": {
    "name": "ipython",
    "version": 3
   },
   "file_extension": ".py",
   "mimetype": "text/x-python",
   "name": "python",
   "nbconvert_exporter": "python",
   "pygments_lexer": "ipython3",
   "version": "3.6.13"
  }
 },
 "nbformat": 4,
 "nbformat_minor": 5
}

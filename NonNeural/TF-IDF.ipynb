{
 "cells": [
  {
   "cell_type": "code",
   "execution_count": 81,
   "id": "5d449023-ad1d-492f-88de-26c62c20dd9c",
   "metadata": {},
   "outputs": [],
   "source": [
    "from sklearn.feature_extraction.text import TfidfVectorizer, TfidfTransformer\n",
    "from sklearn.linear_model import LogisticRegression"
   ]
  },
  {
   "cell_type": "code",
   "execution_count": 132,
   "id": "8c669825-5545-4c8a-863e-9ae0b6fa571a",
   "metadata": {},
   "outputs": [],
   "source": [
    "tfidf = TfidfVectorizer(ngram_range=(1, 3), max_features=500000, analyzer='char_wb')\n",
    "model = LogisticRegression(max_iter=1000)"
   ]
  },
  {
   "cell_type": "code",
   "execution_count": 133,
   "id": "b07248a2-b13b-4479-96cd-a3e4f31c7b36",
   "metadata": {},
   "outputs": [],
   "source": [
    "with open('./data/bkai/train/seq.in', 'r') as f:\n",
    "    train_data = [line.strip() for line in f.readlines()]\n",
    "with open('./data/bkai/dev/seq.in', 'r') as f:\n",
    "    dev_data = [line.strip() for line in f.readlines()]\n",
    "with open('./data/bkai/test/seq.in', 'r') as f:\n",
    "    test_data = [line.strip() for line in f.readlines()]\n",
    "    \n",
    "with open('./data/bkai/train/label', 'r') as f:\n",
    "    train_label = [line.strip() for line in f.readlines()]\n",
    "with open('./data/bkai/dev/label', 'r') as f:\n",
    "    dev_label = [line.strip() for line in f.readlines()]"
   ]
  },
  {
   "cell_type": "code",
   "execution_count": 134,
   "id": "d23af2fd-2d0b-4ae7-b493-f55f84445f1c",
   "metadata": {},
   "outputs": [
    {
     "data": {
      "text/plain": [
       "['tăng bóng 3 26 phần trăm',\n",
       " 'hãy tăng thêm độ sáng phòng ngủ con trai lên 91 phần trăm',\n",
       " 'giúp mình tăng đèn âm trần thứ 2 lên 10 phần trăm ở phòng con nhỏ 4 tầng 5 nhé']"
      ]
     },
     "execution_count": 134,
     "metadata": {},
     "output_type": "execute_result"
    }
   ],
   "source": [
    "train_data[0:3]"
   ]
  },
  {
   "cell_type": "code",
   "execution_count": 135,
   "id": "9fea218f-35b5-405f-a240-6c68607211a6",
   "metadata": {},
   "outputs": [],
   "source": [
    "X_train = train_data\n",
    "y_train = train_label\n",
    "X_val = dev_data\n",
    "y_val = dev_label"
   ]
  },
  {
   "cell_type": "code",
   "execution_count": 136,
   "id": "c3d2f41e-4b68-43ed-9ef6-23ed779bbe50",
   "metadata": {},
   "outputs": [
    {
     "data": {
      "text/plain": [
       "LogisticRegression(max_iter=1000)"
      ]
     },
     "execution_count": 136,
     "metadata": {},
     "output_type": "execute_result"
    }
   ],
   "source": [
    "X_train_transformed = tfidf.fit_transform(X_train)\n",
    "model.fit(X_train_transformed, y_train)"
   ]
  },
  {
   "cell_type": "code",
   "execution_count": 137,
   "id": "0bc9efdf-9a98-4a6a-b16b-d807c6200371",
   "metadata": {},
   "outputs": [],
   "source": [
    "X_val_transformed = tfidf.transform(X_val)\n",
    "train_score = model.score(X_train_transformed, y_train)\n",
    "val_score = model.score(X_val_transformed, y_val)"
   ]
  },
  {
   "cell_type": "code",
   "execution_count": 138,
   "id": "aca32c7a-fb18-4a78-9ef6-d69c801874d7",
   "metadata": {},
   "outputs": [
    {
     "data": {
      "text/plain": [
       "(0.952513966480447, 0.8010204081632653)"
      ]
     },
     "execution_count": 138,
     "metadata": {},
     "output_type": "execute_result"
    }
   ],
   "source": [
    "train_score, val_score"
   ]
  }
 ],
 "metadata": {
  "kernelspec": {
   "display_name": "Python 3 (ipykernel)",
   "language": "python",
   "name": "python3"
  },
  "language_info": {
   "codemirror_mode": {
    "name": "ipython",
    "version": 3
   },
   "file_extension": ".py",
   "mimetype": "text/x-python",
   "name": "python",
   "nbconvert_exporter": "python",
   "pygments_lexer": "ipython3",
   "version": "3.10.4"
  }
 },
 "nbformat": 4,
 "nbformat_minor": 5
}

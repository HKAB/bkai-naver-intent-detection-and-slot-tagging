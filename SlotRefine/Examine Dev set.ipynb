{
 "cells": [
  {
   "cell_type": "code",
   "execution_count": 22,
   "id": "7c0f0573-bcd6-482d-9922-02840174cf84",
   "metadata": {},
   "outputs": [],
   "source": [
    "import numpy as np\n",
    "import pandas as pd"
   ]
  },
  {
   "cell_type": "code",
   "execution_count": 12,
   "id": "3e39206f-d473-4ad2-9bb9-97591a5cb5bc",
   "metadata": {},
   "outputs": [],
   "source": [
    "origin = []\n",
    "with open(\"./data/bkai/dev/seq.in\", 'r') as f:\n",
    "    for line in f:\n",
    "        origin.append(line.strip())"
   ]
  },
  {
   "cell_type": "code",
   "execution_count": 2,
   "id": "569a2f25-ebd1-4c1f-bc24-6ebb17e0a318",
   "metadata": {},
   "outputs": [],
   "source": [
    "pred_intent = []\n",
    "pred_slot = []\n",
    "with open(\"./results.csv\", 'r') as f:\n",
    "    for line in f:\n",
    "        pred_intent.append(line.strip().split(\", \")[0])\n",
    "        pred_slot.append(line.strip().split(\", \")[1])"
   ]
  },
  {
   "cell_type": "code",
   "execution_count": 3,
   "id": "5be13bd0-51e1-43e3-990c-b6126a860b6d",
   "metadata": {},
   "outputs": [],
   "source": [
    "true_intent = []\n",
    "with open(\"./data/bkai/dev/label\", 'r') as f:\n",
    "    for line in f:\n",
    "        true_intent.append(line.strip())\n",
    "true_slot = []\n",
    "with open(\"./data/bkai/dev/seq.out\", 'r') as f:\n",
    "    for line in f:\n",
    "        true_slot.append(line.strip())"
   ]
  },
  {
   "cell_type": "code",
   "execution_count": 4,
   "id": "793d8ec1-7f1b-4cf4-b0d5-62a73f6bb4bb",
   "metadata": {},
   "outputs": [],
   "source": [
    "pred_intent = np.array(pred_intent)\n",
    "pred_slot = np.array(pred_slot)\n",
    "true_intent = np.array(true_intent)\n",
    "true_slot = np.array(true_slot)"
   ]
  },
  {
   "cell_type": "code",
   "execution_count": 5,
   "id": "73802437-f658-4537-b3c8-f2389da15cb8",
   "metadata": {},
   "outputs": [
    {
     "name": "stdout",
     "output_type": "stream",
     "text": [
      "Intent acc:  0.8520408163265306 \n",
      "Slot filling acc:  0.6530612244897959 \n",
      "All acc:  0.5586734693877551\n"
     ]
    }
   ],
   "source": [
    "print(\n",
    "        \"Intent acc: \", (pred_intent == true_intent).mean(), \\\n",
    "        \"\\nSlot filling acc: \", np.array([f == s for f, s in zip(pred_slot, true_slot)]).mean(),\n",
    "        \"\\nAll acc: \", ((pred_intent == true_intent) & np.array([f == s for f, s in zip(pred_slot, true_slot)])).mean()\n",
    "     )"
   ]
  },
  {
   "cell_type": "code",
   "execution_count": 6,
   "id": "a72d256e-7efb-4d6a-b8a1-cecfcfdbe5da",
   "metadata": {},
   "outputs": [
    {
     "data": {
      "text/plain": [
       "0.09438775510204081"
      ]
     },
     "execution_count": 6,
     "metadata": {},
     "output_type": "execute_result"
    }
   ],
   "source": [
    "# Intent wrong, slot right\n",
    "(((pred_intent == true_intent) == False) & (np.array([f == s for f, s in zip(pred_slot, true_slot)]) == True)).mean()"
   ]
  },
  {
   "cell_type": "code",
   "execution_count": 7,
   "id": "80f14ac7-2403-4002-bf83-c2a73b305065",
   "metadata": {},
   "outputs": [
    {
     "data": {
      "text/plain": [
       "0.29336734693877553"
      ]
     },
     "execution_count": 7,
     "metadata": {},
     "output_type": "execute_result"
    }
   ],
   "source": [
    "# Intent right, slot wrong\n",
    "(((pred_intent == true_intent) == True) & (np.array([f == s for f, s in zip(pred_slot, true_slot)]) == False)).mean()"
   ]
  },
  {
   "cell_type": "code",
   "execution_count": 8,
   "id": "568f0cde-2f76-4676-9054-aa0ec7e738df",
   "metadata": {},
   "outputs": [
    {
     "data": {
      "text/plain": [
       "0.05357142857142857"
      ]
     },
     "execution_count": 8,
     "metadata": {},
     "output_type": "execute_result"
    }
   ],
   "source": [
    "# Intent wrong, slot wrong\n",
    "(((pred_intent == true_intent) == False) & (np.array([f == s for f, s in zip(pred_slot, true_slot)]) == False)).mean()"
   ]
  },
  {
   "cell_type": "code",
   "execution_count": 9,
   "id": "37d8e05c-6416-4a1b-8872-1377e528b1cc",
   "metadata": {},
   "outputs": [
    {
     "data": {
      "text/plain": [
       "0.5586734693877551"
      ]
     },
     "execution_count": 9,
     "metadata": {},
     "output_type": "execute_result"
    }
   ],
   "source": [
    "# Intent right, slot right\n",
    "(((pred_intent == true_intent) == True) & (np.array([f == s for f, s in zip(pred_slot, true_slot)]) == True)).mean()"
   ]
  },
  {
   "cell_type": "code",
   "execution_count": 73,
   "id": "1999754c-8c27-435e-b0b9-9f1a932d04a0",
   "metadata": {},
   "outputs": [],
   "source": [
    "pset = {}\n",
    "mask = np.array([f == s for f, s in zip(pred_slot, true_slot)]) == False\n",
    "for pred, true in zip(pred_slot[mask], true_slot[mask]):\n",
    "    pred = np.array(pred.split())\n",
    "    true = np.array(true.split())\n",
    "    emask = pred == true\n",
    "    # print(np.array(pred.split()) == np.array(true.split()))\n",
    "    # print(np.array(pred.split())[~emask])\n",
    "    # break\n",
    "    for wrong_slot, wrong_slot_to in zip(true[~emask], pred[~emask]):\n",
    "        if (wrong_slot + \" -> \" + wrong_slot_to not in pset.keys()):\n",
    "            pset.update({wrong_slot + \" -> \" + wrong_slot_to: 1})\n",
    "        else:\n",
    "            pset[wrong_slot + \" -> \" + wrong_slot_to] = pset[wrong_slot + \" -> \" + wrong_slot_to] + 1"
   ]
  },
  {
   "cell_type": "code",
   "execution_count": 74,
   "id": "764cdd02-35b7-4e2d-a9cd-320a34d50736",
   "metadata": {},
   "outputs": [
    {
     "data": {
      "text/plain": [
       "{'B-devicedevice -> O': 1,\n",
       " 'I-devicedevice -> O': 1,\n",
       " 'B-change-valuesyspercentage -> I-roomroom': 1,\n",
       " 'B-change-valuesyspercentage -> I-devicedevice': 1,\n",
       " 'B-commandcommand -> B-final-valuesyspercentage': 1,\n",
       " 'I-commandcommand -> I-roomroom': 1,\n",
       " 'B-statusstatus -> I-roomroom': 1,\n",
       " 'I-commandcommand -> B-statusstatus': 1,\n",
       " 'I-roomroom -> B-final-valuesysnumber': 1,\n",
       " 'I-roomroom -> B-sysnumbersysnumber': 1,\n",
       " 'B-final-valuesyspercentage -> I-roomroom': 1,\n",
       " 'I-devicedevice -> B-sysnumbersysnumber': 1,\n",
       " 'O -> B-allall': 1,\n",
       " 'B-floornumberfloornumber -> B-devicedevice': 1,\n",
       " 'B-colorcolor -> B-roomroom': 1,\n",
       " 'B-allall -> O': 1,\n",
       " 'B-colorcolor -> I-devicedevice': 1,\n",
       " 'B-allall -> I-commandcommand': 1,\n",
       " 'B-colorcolor -> I-commandcommand': 1,\n",
       " 'I-roomroom -> B-devicedevice': 1,\n",
       " 'B-statusstatus -> O': 2,\n",
       " 'B-devicedevice -> B-final-valuesyspercentage': 2,\n",
       " 'B-roomroom -> B-devicedevice': 2,\n",
       " 'B-floornumberfloornumber -> B-roomroom': 2,\n",
       " 'I-floornumberfloornumber -> I-roomroom': 2,\n",
       " 'B-floornumberfloornumber -> B-change-valuesyspercentage': 2,\n",
       " 'O -> I-roomroom': 2,\n",
       " 'B-colorcolor -> I-colorcolor': 2,\n",
       " 'I-allall -> O': 2,\n",
       " 'B-sysnumbersysnumber -> B-final-valuesysnumber': 2,\n",
       " 'B-change-valuesyspercentage -> B-final-valuesyspercentage': 3,\n",
       " 'I-devicedevice -> I-roomroom': 3,\n",
       " 'B-commandcommand -> I-statusstatus': 3,\n",
       " 'I-roomroom -> O': 3,\n",
       " 'B-roomroom -> O': 3,\n",
       " 'B-roomroom -> B-floornumberfloornumber': 3,\n",
       " 'B-floornumberfloornumber -> I-roomroom': 3,\n",
       " 'I-colorcolor -> B-colorcolor': 3,\n",
       " 'I-commandcommand -> O': 4,\n",
       " 'B-roomroom -> I-roomroom': 4,\n",
       " 'B-devicedevice -> I-devicedevice': 4,\n",
       " 'I-roomroom -> I-devicedevice': 5,\n",
       " 'O -> B-floornumberfloornumber': 5,\n",
       " 'O -> B-sysnumbersysnumber': 5,\n",
       " 'B-colorcolor -> O': 5,\n",
       " 'O -> I-devicedevice': 6,\n",
       " 'B-commandcommand -> O': 6,\n",
       " 'B-final-valuesysnumber -> B-sysnumbersysnumber': 6,\n",
       " 'O -> I-commandcommand': 8,\n",
       " 'I-change-valuesyspercentage -> I-final-valuesyspercentage': 9,\n",
       " 'O -> B-roomroom': 17,\n",
       " 'O -> B-devicedevice': 19,\n",
       " 'O -> B-commandcommand': 33}"
      ]
     },
     "execution_count": 74,
     "metadata": {},
     "output_type": "execute_result"
    }
   ],
   "source": [
    "dict(sorted(pset.items(), key=lambda item: item[1]))"
   ]
  },
  {
   "cell_type": "code",
   "execution_count": 24,
   "id": "5aeb0ef3-9cca-4e16-aba5-10877cde4ad0",
   "metadata": {},
   "outputs": [],
   "source": [
    "pset = {}\n",
    "mask = np.array([f == s for f, s in zip(pred_intent, true_intent)]) == False\n",
    "for pred, true in zip(pred_intent[mask], true_intent[mask]):\n",
    "    pred = np.array(pred)\n",
    "    true = np.array(true)\n",
    "    emask = pred == true\n",
    "    # print(np.array(pred.split()) == np.array(true.split()))\n",
    "    # print(np.array(pred.split())[~emask])\n",
    "    # break\n",
    "    for wrong_slot, wrong_slot_to in zip(true[~emask], pred[~emask]):\n",
    "        if (wrong_slot + \" -> \" + wrong_slot_to not in pset.keys()):\n",
    "            pset.update({wrong_slot + \" -> \" + wrong_slot_to: 1})\n",
    "        else:\n",
    "            pset[wrong_slot + \" -> \" + wrong_slot_to] = pset[wrong_slot + \" -> \" + wrong_slot_to] + 1"
   ]
  },
  {
   "cell_type": "code",
   "execution_count": 25,
   "id": "fb16add4-65ca-4d0f-99d2-190bbdcd7c17",
   "metadata": {},
   "outputs": [
    {
     "data": {
      "text/plain": [
       "{'smart.home.decrease.level -> smart.home.increase.level': 1,\n",
       " 'smart.home.set.color -> smart.home.set.level': 1,\n",
       " 'smart.home.set.level -> smart.home.increase.level': 1,\n",
       " 'smart.home.device.onoff -> smart.home.set.color': 1,\n",
       " 'greeting -> smart.home.set.level': 1,\n",
       " 'smart.home.check.status -> smart.home.set.percentage': 2,\n",
       " 'smart.home.check.status -> smart.home.device.onoff': 2,\n",
       " 'smart.home.set.level -> smart.home.set.percentage': 2,\n",
       " 'smart.home.decrease.percentage -> smart.home.set.percentage': 5,\n",
       " 'smart.home.decrease.percentage -> smart.home.set.level': 5,\n",
       " 'smart.home.set.percentage -> smart.home.device.onoff': 5,\n",
       " 'smart.home.increase.percentage -> greeting': 5,\n",
       " 'smart.home.increase.percentage -> smart.home.increase.level': 5,\n",
       " 'smart.home.set.level -> smart.home.device.onoff': 6,\n",
       " 'smart.home.decrease.percentage -> smart.home.decrease.level': 7,\n",
       " 'smart.home.set.percentage -> smart.home.set.level': 9}"
      ]
     },
     "execution_count": 25,
     "metadata": {},
     "output_type": "execute_result"
    }
   ],
   "source": [
    "dict(sorted(pset.items(), key=lambda item: item[1]))"
   ]
  },
  {
   "cell_type": "code",
   "execution_count": 17,
   "id": "80c9da86-fd89-429d-aa39-834d098cdacb",
   "metadata": {},
   "outputs": [],
   "source": [
    "wrong_origin_mask = (((pred_intent == true_intent) == False) | (np.array([f == s for f, s in zip(pred_slot, true_slot)]) == False))"
   ]
  },
  {
   "cell_type": "code",
   "execution_count": 23,
   "id": "2e520322-f6a6-4560-9c79-b1de5bfe1b7f",
   "metadata": {},
   "outputs": [],
   "source": [
    "wrong_dev_df = pd.DataFrame({'seq_origin': np.array(origin)[wrong_origin_mask],\n",
    "                            'pred_intent': pred_intent[wrong_origin_mask],\n",
    "                            'true_intent': true_intent[wrong_origin_mask],\n",
    "                            'pred_slot': pred_slot[wrong_origin_mask],\n",
    "                            'true_slot': true_slot[wrong_origin_mask]})"
   ]
  },
  {
   "cell_type": "code",
   "execution_count": 25,
   "id": "e53a7964-606a-4985-bc83-22d5d5fba5fa",
   "metadata": {},
   "outputs": [],
   "source": [
    "wrong_dev_df.to_csv('analysis_wrong.csv')"
   ]
  },
  {
   "cell_type": "code",
   "execution_count": 88,
   "id": "1186c2c5-646b-453f-83c3-a66c0e11234a",
   "metadata": {},
   "outputs": [],
   "source": [
    "def find_O_B_diff(pred, true):\n",
    "    for s_pred, s_true in zip(pred.split(), true.split()):\n",
    "        if (\"O\" in s_pred and \"B-\" in s_true):\n",
    "            return True\n",
    "    return False\n",
    "\n",
    "def compareSlot(pred, true):\n",
    "    if (pred != true):\n",
    "        return True\n",
    "    return False"
   ]
  },
  {
   "cell_type": "code",
   "execution_count": 89,
   "id": "f3cde4f2-db82-4fc0-8c5a-83e1310cc8e7",
   "metadata": {},
   "outputs": [],
   "source": [
    "B_to_O_mask = (np.array([(compareSlot(pred, true) & find_O_B_diff(pred, true)) for pred, true in zip(pred_slot, true_slot)]))"
   ]
  },
  {
   "cell_type": "code",
   "execution_count": 90,
   "id": "a9b15fd0-71e5-4659-b9fd-0d9f9e70de27",
   "metadata": {},
   "outputs": [],
   "source": [
    "B_to_O_dev_df = pd.DataFrame({'seq_origin': np.array(origin)[B_to_O_mask],\n",
    "                            'pred_intent': pred_intent[B_to_O_mask],\n",
    "                            'true_intent': true_intent[B_to_O_mask],\n",
    "                            'pred_slot': pred_slot[B_to_O_mask],\n",
    "                            'true_slot': true_slot[B_to_O_mask]})"
   ]
  },
  {
   "cell_type": "code",
   "execution_count": 91,
   "id": "6842c62b-2fa1-4bce-b1f0-e8aae89a5028",
   "metadata": {},
   "outputs": [
    {
     "data": {
      "text/html": [
       "<div>\n",
       "<style scoped>\n",
       "    .dataframe tbody tr th:only-of-type {\n",
       "        vertical-align: middle;\n",
       "    }\n",
       "\n",
       "    .dataframe tbody tr th {\n",
       "        vertical-align: top;\n",
       "    }\n",
       "\n",
       "    .dataframe thead th {\n",
       "        text-align: right;\n",
       "    }\n",
       "</style>\n",
       "<table border=\"1\" class=\"dataframe\">\n",
       "  <thead>\n",
       "    <tr style=\"text-align: right;\">\n",
       "      <th></th>\n",
       "      <th>seq_origin</th>\n",
       "      <th>pred_intent</th>\n",
       "      <th>true_intent</th>\n",
       "      <th>pred_slot</th>\n",
       "      <th>true_slot</th>\n",
       "    </tr>\n",
       "  </thead>\n",
       "  <tbody>\n",
       "    <tr>\n",
       "      <th>0</th>\n",
       "      <td>chiết áp 2 to quá giảm còn 19 phần trăm giúp tôi</td>\n",
       "      <td>smart.home.decrease.percentage</td>\n",
       "      <td>smart.home.decrease.percentage</td>\n",
       "      <td>O O I-devicedevice O O O O B-change-valuesyspe...</td>\n",
       "      <td>B-devicedevice I-devicedevice I-devicedevice O...</td>\n",
       "    </tr>\n",
       "    <tr>\n",
       "      <th>1</th>\n",
       "      <td>bóng hắt tường phòng ngủ các con 4 còn bật cập...</td>\n",
       "      <td>smart.home.device.onoff</td>\n",
       "      <td>smart.home.check.status</td>\n",
       "      <td>B-devicedevice I-devicedevice I-devicedevice B...</td>\n",
       "      <td>B-devicedevice I-devicedevice I-devicedevice B...</td>\n",
       "    </tr>\n",
       "    <tr>\n",
       "      <th>2</th>\n",
       "      <td>bóng 2 phòng ngủ 5 đang tắt kiểm tra</td>\n",
       "      <td>smart.home.check.status</td>\n",
       "      <td>smart.home.check.status</td>\n",
       "      <td>B-devicedevice I-devicedevice B-roomroom I-roo...</td>\n",
       "      <td>B-devicedevice I-devicedevice B-roomroom I-roo...</td>\n",
       "    </tr>\n",
       "    <tr>\n",
       "      <th>3</th>\n",
       "      <td>tôi muốn bật đèn tranh 4 ở phòng giám đốc</td>\n",
       "      <td>smart.home.device.onoff</td>\n",
       "      <td>smart.home.set.percentage</td>\n",
       "      <td>O O O B-devicedevice I-devicedevice I-devicede...</td>\n",
       "      <td>O O B-commandcommand B-devicedevice I-devicede...</td>\n",
       "    </tr>\n",
       "    <tr>\n",
       "      <th>4</th>\n",
       "      <td>hãy cài đặt bình nóng lạnh 2 trong room</td>\n",
       "      <td>smart.home.set.level</td>\n",
       "      <td>smart.home.set.percentage</td>\n",
       "      <td>O B-commandcommand I-commandcommand B-devicede...</td>\n",
       "      <td>O B-commandcommand I-commandcommand B-devicede...</td>\n",
       "    </tr>\n",
       "    <tr>\n",
       "      <th>5</th>\n",
       "      <td>giúp mình tăng bóng âm trần 2 lên 5 phần trăm ...</td>\n",
       "      <td>smart.home.increase.percentage</td>\n",
       "      <td>smart.home.increase.percentage</td>\n",
       "      <td>O O O B-devicedevice I-devicedevice I-devicede...</td>\n",
       "      <td>O O O B-devicedevice I-devicedevice I-devicede...</td>\n",
       "    </tr>\n",
       "    <tr>\n",
       "      <th>6</th>\n",
       "      <td>giúp mình tăng bóng trang trí lên 19 phần trăm...</td>\n",
       "      <td>smart.home.increase.percentage</td>\n",
       "      <td>smart.home.increase.percentage</td>\n",
       "      <td>O O O B-devicedevice I-devicedevice I-devicede...</td>\n",
       "      <td>O O O B-devicedevice I-devicedevice I-devicede...</td>\n",
       "    </tr>\n",
       "    <tr>\n",
       "      <th>7</th>\n",
       "      <td>bạn có thể giúp mình thiết lập màu của đèn ốp ...</td>\n",
       "      <td>smart.home.set.color</td>\n",
       "      <td>smart.home.set.color</td>\n",
       "      <td>O O O O O O I-commandcommand O O B-devicedevic...</td>\n",
       "      <td>O O O O O B-commandcommand I-commandcommand O ...</td>\n",
       "    </tr>\n",
       "    <tr>\n",
       "      <th>8</th>\n",
       "      <td>command đen của đèn vườn 2 phòng xông hơi floo...</td>\n",
       "      <td>smart.home.set.color</td>\n",
       "      <td>smart.home.set.color</td>\n",
       "      <td>B-commandcommand O O B-devicedevice I-devicede...</td>\n",
       "      <td>B-commandcommand B-colorcolor O B-devicedevice...</td>\n",
       "    </tr>\n",
       "    <tr>\n",
       "      <th>9</th>\n",
       "      <td>khởi chạy tất cả ti vi thứ 1 màu nâu</td>\n",
       "      <td>smart.home.set.color</td>\n",
       "      <td>smart.home.set.color</td>\n",
       "      <td>B-commandcommand I-commandcommand O O B-device...</td>\n",
       "      <td>B-commandcommand I-commandcommand B-allall I-a...</td>\n",
       "    </tr>\n",
       "    <tr>\n",
       "      <th>10</th>\n",
       "      <td>đặt màu trắng của đèn âm trần đầu hè lầu trệt ...</td>\n",
       "      <td>smart.home.set.color</td>\n",
       "      <td>smart.home.set.color</td>\n",
       "      <td>B-commandcommand O B-colorcolor O B-devicedevi...</td>\n",
       "      <td>B-commandcommand B-colorcolor I-colorcolor O B...</td>\n",
       "    </tr>\n",
       "    <tr>\n",
       "      <th>11</th>\n",
       "      <td>thay đổi màu sắc màu xanh nước biển của mành c...</td>\n",
       "      <td>smart.home.set.color</td>\n",
       "      <td>smart.home.set.color</td>\n",
       "      <td>B-commandcommand I-commandcommand I-commandcom...</td>\n",
       "      <td>B-commandcommand I-commandcommand I-commandcom...</td>\n",
       "    </tr>\n",
       "    <tr>\n",
       "      <th>12</th>\n",
       "      <td>chế độ mọi rèm cửa đôi màu tía</td>\n",
       "      <td>smart.home.set.color</td>\n",
       "      <td>smart.home.set.color</td>\n",
       "      <td>B-commandcommand I-commandcommand B-allall B-d...</td>\n",
       "      <td>B-commandcommand I-commandcommand B-allall B-d...</td>\n",
       "    </tr>\n",
       "    <tr>\n",
       "      <th>13</th>\n",
       "      <td>bạn đổi hộ mình rèm cửa lên với</td>\n",
       "      <td>smart.home.set.level</td>\n",
       "      <td>smart.home.set.level</td>\n",
       "      <td>O O O O B-devicedevice I-devicedevice O O</td>\n",
       "      <td>O B-commandcommand O O B-devicedevice I-device...</td>\n",
       "    </tr>\n",
       "    <tr>\n",
       "      <th>14</th>\n",
       "      <td>chào bạn bạn thay đổi giúp mình đèn cây ở hè s...</td>\n",
       "      <td>smart.home.set.level</td>\n",
       "      <td>smart.home.set.level</td>\n",
       "      <td>O O O O O O O B-devicedevice I-devicedevice O ...</td>\n",
       "      <td>O O O B-commandcommand I-commandcommand O O B-...</td>\n",
       "    </tr>\n",
       "    <tr>\n",
       "      <th>15</th>\n",
       "      <td>hãy bật bóng thờ thứ 3 trong phòng con nhỏ</td>\n",
       "      <td>smart.home.device.onoff</td>\n",
       "      <td>smart.home.device.onoff</td>\n",
       "      <td>O O B-devicedevice I-devicedevice I-devicedevi...</td>\n",
       "      <td>O B-commandcommand B-devicedevice I-devicedevi...</td>\n",
       "    </tr>\n",
       "  </tbody>\n",
       "</table>\n",
       "</div>"
      ],
      "text/plain": [
       "                                           seq_origin  \\\n",
       "0    chiết áp 2 to quá giảm còn 19 phần trăm giúp tôi   \n",
       "1   bóng hắt tường phòng ngủ các con 4 còn bật cập...   \n",
       "2                bóng 2 phòng ngủ 5 đang tắt kiểm tra   \n",
       "3           tôi muốn bật đèn tranh 4 ở phòng giám đốc   \n",
       "4             hãy cài đặt bình nóng lạnh 2 trong room   \n",
       "5   giúp mình tăng bóng âm trần 2 lên 5 phần trăm ...   \n",
       "6   giúp mình tăng bóng trang trí lên 19 phần trăm...   \n",
       "7   bạn có thể giúp mình thiết lập màu của đèn ốp ...   \n",
       "8   command đen của đèn vườn 2 phòng xông hơi floo...   \n",
       "9                khởi chạy tất cả ti vi thứ 1 màu nâu   \n",
       "10  đặt màu trắng của đèn âm trần đầu hè lầu trệt ...   \n",
       "11  thay đổi màu sắc màu xanh nước biển của mành c...   \n",
       "12                     chế độ mọi rèm cửa đôi màu tía   \n",
       "13                    bạn đổi hộ mình rèm cửa lên với   \n",
       "14  chào bạn bạn thay đổi giúp mình đèn cây ở hè s...   \n",
       "15         hãy bật bóng thờ thứ 3 trong phòng con nhỏ   \n",
       "\n",
       "                       pred_intent                     true_intent  \\\n",
       "0   smart.home.decrease.percentage  smart.home.decrease.percentage   \n",
       "1          smart.home.device.onoff         smart.home.check.status   \n",
       "2          smart.home.check.status         smart.home.check.status   \n",
       "3          smart.home.device.onoff       smart.home.set.percentage   \n",
       "4             smart.home.set.level       smart.home.set.percentage   \n",
       "5   smart.home.increase.percentage  smart.home.increase.percentage   \n",
       "6   smart.home.increase.percentage  smart.home.increase.percentage   \n",
       "7             smart.home.set.color            smart.home.set.color   \n",
       "8             smart.home.set.color            smart.home.set.color   \n",
       "9             smart.home.set.color            smart.home.set.color   \n",
       "10            smart.home.set.color            smart.home.set.color   \n",
       "11            smart.home.set.color            smart.home.set.color   \n",
       "12            smart.home.set.color            smart.home.set.color   \n",
       "13            smart.home.set.level            smart.home.set.level   \n",
       "14            smart.home.set.level            smart.home.set.level   \n",
       "15         smart.home.device.onoff         smart.home.device.onoff   \n",
       "\n",
       "                                            pred_slot  \\\n",
       "0   O O I-devicedevice O O O O B-change-valuesyspe...   \n",
       "1   B-devicedevice I-devicedevice I-devicedevice B...   \n",
       "2   B-devicedevice I-devicedevice B-roomroom I-roo...   \n",
       "3   O O O B-devicedevice I-devicedevice I-devicede...   \n",
       "4   O B-commandcommand I-commandcommand B-devicede...   \n",
       "5   O O O B-devicedevice I-devicedevice I-devicede...   \n",
       "6   O O O B-devicedevice I-devicedevice I-devicede...   \n",
       "7   O O O O O O I-commandcommand O O B-devicedevic...   \n",
       "8   B-commandcommand O O B-devicedevice I-devicede...   \n",
       "9   B-commandcommand I-commandcommand O O B-device...   \n",
       "10  B-commandcommand O B-colorcolor O B-devicedevi...   \n",
       "11  B-commandcommand I-commandcommand I-commandcom...   \n",
       "12  B-commandcommand I-commandcommand B-allall B-d...   \n",
       "13          O O O O B-devicedevice I-devicedevice O O   \n",
       "14  O O O O O O O B-devicedevice I-devicedevice O ...   \n",
       "15  O O B-devicedevice I-devicedevice I-devicedevi...   \n",
       "\n",
       "                                            true_slot  \n",
       "0   B-devicedevice I-devicedevice I-devicedevice O...  \n",
       "1   B-devicedevice I-devicedevice I-devicedevice B...  \n",
       "2   B-devicedevice I-devicedevice B-roomroom I-roo...  \n",
       "3   O O B-commandcommand B-devicedevice I-devicede...  \n",
       "4   O B-commandcommand I-commandcommand B-devicede...  \n",
       "5   O O O B-devicedevice I-devicedevice I-devicede...  \n",
       "6   O O O B-devicedevice I-devicedevice I-devicede...  \n",
       "7   O O O O O B-commandcommand I-commandcommand O ...  \n",
       "8   B-commandcommand B-colorcolor O B-devicedevice...  \n",
       "9   B-commandcommand I-commandcommand B-allall I-a...  \n",
       "10  B-commandcommand B-colorcolor I-colorcolor O B...  \n",
       "11  B-commandcommand I-commandcommand I-commandcom...  \n",
       "12  B-commandcommand I-commandcommand B-allall B-d...  \n",
       "13  O B-commandcommand O O B-devicedevice I-device...  \n",
       "14  O O O B-commandcommand I-commandcommand O O B-...  \n",
       "15  O B-commandcommand B-devicedevice I-devicedevi...  "
      ]
     },
     "execution_count": 91,
     "metadata": {},
     "output_type": "execute_result"
    }
   ],
   "source": [
    "B_to_O_dev_df"
   ]
  },
  {
   "cell_type": "code",
   "execution_count": 92,
   "id": "4e813e7f-d2de-496a-9c68-be5c5874d1ca",
   "metadata": {},
   "outputs": [
    {
     "data": {
      "text/plain": [
       "('chiết áp 2 to quá giảm còn 19 phần trăm giúp tôi',\n",
       " 'O O I-devicedevice O O O O B-change-valuesyspercentage I-change-valuesyspercentage I-change-valuesyspercentage O O',\n",
       " 'B-devicedevice I-devicedevice I-devicedevice O O O O B-change-valuesyspercentage I-change-valuesyspercentage I-change-valuesyspercentage O O')"
      ]
     },
     "execution_count": 92,
     "metadata": {},
     "output_type": "execute_result"
    }
   ],
   "source": [
    "B_to_O_dev_df.iloc[0].seq_origin, B_to_O_dev_df.iloc[0].pred_slot, B_to_O_dev_df.iloc[0].true_slot"
   ]
  }
 ],
 "metadata": {
  "kernelspec": {
   "display_name": "Python 3",
   "language": "python",
   "name": "python3"
  },
  "language_info": {
   "codemirror_mode": {
    "name": "ipython",
    "version": 3
   },
   "file_extension": ".py",
   "mimetype": "text/x-python",
   "name": "python",
   "nbconvert_exporter": "python",
   "pygments_lexer": "ipython3",
   "version": "3.6.13"
  }
 },
 "nbformat": 4,
 "nbformat_minor": 5
}

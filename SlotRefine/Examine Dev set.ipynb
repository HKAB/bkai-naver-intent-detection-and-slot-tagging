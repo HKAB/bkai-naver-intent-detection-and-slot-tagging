{
 "cells": [
  {
   "cell_type": "code",
   "execution_count": 1,
   "id": "7c0f0573-bcd6-482d-9922-02840174cf84",
   "metadata": {},
   "outputs": [],
   "source": [
    "import numpy as np"
   ]
  },
  {
   "cell_type": "code",
   "execution_count": 13,
   "id": "569a2f25-ebd1-4c1f-bc24-6ebb17e0a318",
   "metadata": {},
   "outputs": [],
   "source": [
    "pred_intent = []\n",
    "pred_slot = []\n",
    "with open(\"./results.csv\", 'r') as f:\n",
    "    for line in f:\n",
    "        pred_intent.append(line.strip().split(\", \")[0])\n",
    "        pred_slot.append(line.strip().split(\", \")[1])"
   ]
  },
  {
   "cell_type": "code",
   "execution_count": 14,
   "id": "5be13bd0-51e1-43e3-990c-b6126a860b6d",
   "metadata": {},
   "outputs": [],
   "source": [
    "true_intent = []\n",
    "with open(\"./data/bkai/dev/label\", 'r') as f:\n",
    "    for line in f:\n",
    "        true_intent.append(line.strip())\n",
    "true_slot = []\n",
    "with open(\"./data/bkai/dev/seq.out\", 'r') as f:\n",
    "    for line in f:\n",
    "        true_slot.append(line.strip())"
   ]
  },
  {
   "cell_type": "code",
   "execution_count": 15,
   "id": "793d8ec1-7f1b-4cf4-b0d5-62a73f6bb4bb",
   "metadata": {},
   "outputs": [],
   "source": [
    "pred_intent = np.array(pred_intent)\n",
    "pred_slot = np.array(pred_slot)\n",
    "true_intent = np.array(true_intent)\n",
    "true_slot = np.array(true_slot)"
   ]
  },
  {
   "cell_type": "code",
   "execution_count": 17,
   "id": "73802437-f658-4537-b3c8-f2389da15cb8",
   "metadata": {},
   "outputs": [
    {
     "name": "stdout",
     "output_type": "stream",
     "text": [
      "Intent acc:  0.8520408163265306 \n",
      "Slot filling acc:  0.6530612244897959 \n",
      "All acc:  0.5586734693877551\n"
     ]
    }
   ],
   "source": [
    "print(\n",
    "        \"Intent acc: \", (pred_intent == true_intent).mean(), \\\n",
    "        \"\\nSlot filling acc: \", np.array([f == s for f, s in zip(pred_slot, true_slot)]).mean(),\n",
    "        \"\\nAll acc: \", ((pred_intent == true_intent) & np.array([f == s for f, s in zip(pred_slot, true_slot)])).mean()\n",
    "     )"
   ]
  },
  {
   "cell_type": "code",
   "execution_count": 18,
   "id": "a72d256e-7efb-4d6a-b8a1-cecfcfdbe5da",
   "metadata": {},
   "outputs": [
    {
     "data": {
      "text/plain": [
       "0.09438775510204081"
      ]
     },
     "execution_count": 18,
     "metadata": {},
     "output_type": "execute_result"
    }
   ],
   "source": [
    "# Intent wrong, slot right\n",
    "(((pred_intent == true_intent) == False) & (np.array([f == s for f, s in zip(pred_slot, true_slot)]) == True)).mean()"
   ]
  },
  {
   "cell_type": "code",
   "execution_count": 19,
   "id": "80f14ac7-2403-4002-bf83-c2a73b305065",
   "metadata": {},
   "outputs": [
    {
     "data": {
      "text/plain": [
       "0.29336734693877553"
      ]
     },
     "execution_count": 19,
     "metadata": {},
     "output_type": "execute_result"
    }
   ],
   "source": [
    "# Intent right, slot wrong\n",
    "(((pred_intent == true_intent) == True) & (np.array([f == s for f, s in zip(pred_slot, true_slot)]) == False)).mean()"
   ]
  },
  {
   "cell_type": "code",
   "execution_count": 20,
   "id": "568f0cde-2f76-4676-9054-aa0ec7e738df",
   "metadata": {},
   "outputs": [
    {
     "data": {
      "text/plain": [
       "0.05357142857142857"
      ]
     },
     "execution_count": 20,
     "metadata": {},
     "output_type": "execute_result"
    }
   ],
   "source": [
    "# Intent wrong, slot wrong\n",
    "(((pred_intent == true_intent) == False) & (np.array([f == s for f, s in zip(pred_slot, true_slot)]) == False)).mean()"
   ]
  },
  {
   "cell_type": "code",
   "execution_count": 21,
   "id": "37d8e05c-6416-4a1b-8872-1377e528b1cc",
   "metadata": {},
   "outputs": [
    {
     "data": {
      "text/plain": [
       "0.5586734693877551"
      ]
     },
     "execution_count": 21,
     "metadata": {},
     "output_type": "execute_result"
    }
   ],
   "source": [
    "# Intent right, slot right\n",
    "(((pred_intent == true_intent) == True) & (np.array([f == s for f, s in zip(pred_slot, true_slot)]) == True)).mean()"
   ]
  },
  {
   "cell_type": "code",
   "execution_count": 22,
   "id": "1999754c-8c27-435e-b0b9-9f1a932d04a0",
   "metadata": {},
   "outputs": [],
   "source": [
    "pset = {}\n",
    "mask = np.array([f == s for f, s in zip(pred_slot, true_slot)]) == False\n",
    "for pred, true in zip(pred_slot[mask], true_slot[mask]):\n",
    "    pred = np.array(pred.split())\n",
    "    true = np.array(true.split())\n",
    "    emask = pred == true\n",
    "    # print(np.array(pred.split()) == np.array(true.split()))\n",
    "    # print(np.array(pred.split())[~emask])\n",
    "    # break\n",
    "    for wrong_slot, wrong_slot_to in zip(true[~emask], pred[~emask]):\n",
    "        if (wrong_slot + \" -> \" + wrong_slot_to not in pset.keys()):\n",
    "            pset.update({wrong_slot + \" -> \" + wrong_slot_to: 1})\n",
    "        else:\n",
    "            pset[wrong_slot + \" -> \" + wrong_slot_to] = pset[wrong_slot + \" -> \" + wrong_slot_to] + 1"
   ]
  },
  {
   "cell_type": "code",
   "execution_count": 23,
   "id": "764cdd02-35b7-4e2d-a9cd-320a34d50736",
   "metadata": {},
   "outputs": [
    {
     "data": {
      "text/plain": [
       "{'B-devicedevice -> O': 1,\n",
       " 'I-devicedevice -> O': 1,\n",
       " 'B-change-valuesyspercentage -> I-roomroom': 1,\n",
       " 'B-change-valuesyspercentage -> I-devicedevice': 1,\n",
       " 'B-commandcommand -> B-final-valuesyspercentage': 1,\n",
       " 'I-commandcommand -> I-roomroom': 1,\n",
       " 'B-statusstatus -> I-roomroom': 1,\n",
       " 'I-commandcommand -> B-statusstatus': 1,\n",
       " 'I-roomroom -> B-final-valuesysnumber': 1,\n",
       " 'I-roomroom -> B-sysnumbersysnumber': 1,\n",
       " 'B-final-valuesyspercentage -> I-roomroom': 1,\n",
       " 'I-devicedevice -> B-sysnumbersysnumber': 1,\n",
       " 'O -> B-allall': 1,\n",
       " 'B-floornumberfloornumber -> B-devicedevice': 1,\n",
       " 'B-colorcolor -> B-roomroom': 1,\n",
       " 'B-allall -> O': 1,\n",
       " 'B-colorcolor -> I-devicedevice': 1,\n",
       " 'B-allall -> I-commandcommand': 1,\n",
       " 'B-colorcolor -> I-commandcommand': 1,\n",
       " 'I-roomroom -> B-devicedevice': 1,\n",
       " 'B-statusstatus -> O': 2,\n",
       " 'B-devicedevice -> B-final-valuesyspercentage': 2,\n",
       " 'B-roomroom -> B-devicedevice': 2,\n",
       " 'B-floornumberfloornumber -> B-roomroom': 2,\n",
       " 'I-floornumberfloornumber -> I-roomroom': 2,\n",
       " 'B-floornumberfloornumber -> B-change-valuesyspercentage': 2,\n",
       " 'O -> I-roomroom': 2,\n",
       " 'B-colorcolor -> I-colorcolor': 2,\n",
       " 'I-allall -> O': 2,\n",
       " 'B-sysnumbersysnumber -> B-final-valuesysnumber': 2,\n",
       " 'B-change-valuesyspercentage -> B-final-valuesyspercentage': 3,\n",
       " 'I-devicedevice -> I-roomroom': 3,\n",
       " 'B-commandcommand -> I-statusstatus': 3,\n",
       " 'I-roomroom -> O': 3,\n",
       " 'B-roomroom -> O': 3,\n",
       " 'B-roomroom -> B-floornumberfloornumber': 3,\n",
       " 'B-floornumberfloornumber -> I-roomroom': 3,\n",
       " 'I-colorcolor -> B-colorcolor': 3,\n",
       " 'I-commandcommand -> O': 4,\n",
       " 'B-roomroom -> I-roomroom': 4,\n",
       " 'B-devicedevice -> I-devicedevice': 4,\n",
       " 'I-roomroom -> I-devicedevice': 5,\n",
       " 'O -> B-floornumberfloornumber': 5,\n",
       " 'O -> B-sysnumbersysnumber': 5,\n",
       " 'B-colorcolor -> O': 5,\n",
       " 'O -> I-devicedevice': 6,\n",
       " 'B-commandcommand -> O': 6,\n",
       " 'B-final-valuesysnumber -> B-sysnumbersysnumber': 6,\n",
       " 'O -> I-commandcommand': 8,\n",
       " 'I-change-valuesyspercentage -> I-final-valuesyspercentage': 9,\n",
       " 'O -> B-roomroom': 17,\n",
       " 'O -> B-devicedevice': 19,\n",
       " 'O -> B-commandcommand': 33}"
      ]
     },
     "execution_count": 23,
     "metadata": {},
     "output_type": "execute_result"
    }
   ],
   "source": [
    "dict(sorted(pset.items(), key=lambda item: item[1]))"
   ]
  },
  {
   "cell_type": "code",
   "execution_count": 24,
   "id": "5aeb0ef3-9cca-4e16-aba5-10877cde4ad0",
   "metadata": {},
   "outputs": [],
   "source": [
    "pset = {}\n",
    "mask = np.array([f == s for f, s in zip(pred_intent, true_intent)]) == False\n",
    "for pred, true in zip(pred_intent[mask], true_intent[mask]):\n",
    "    pred = np.array(pred)\n",
    "    true = np.array(true)\n",
    "    emask = pred == true\n",
    "    # print(np.array(pred.split()) == np.array(true.split()))\n",
    "    # print(np.array(pred.split())[~emask])\n",
    "    # break\n",
    "    for wrong_slot, wrong_slot_to in zip(true[~emask], pred[~emask]):\n",
    "        if (wrong_slot + \" -> \" + wrong_slot_to not in pset.keys()):\n",
    "            pset.update({wrong_slot + \" -> \" + wrong_slot_to: 1})\n",
    "        else:\n",
    "            pset[wrong_slot + \" -> \" + wrong_slot_to] = pset[wrong_slot + \" -> \" + wrong_slot_to] + 1"
   ]
  },
  {
   "cell_type": "code",
   "execution_count": 25,
   "id": "fb16add4-65ca-4d0f-99d2-190bbdcd7c17",
   "metadata": {},
   "outputs": [
    {
     "data": {
      "text/plain": [
       "{'smart.home.decrease.level -> smart.home.increase.level': 1,\n",
       " 'smart.home.set.color -> smart.home.set.level': 1,\n",
       " 'smart.home.set.level -> smart.home.increase.level': 1,\n",
       " 'smart.home.device.onoff -> smart.home.set.color': 1,\n",
       " 'greeting -> smart.home.set.level': 1,\n",
       " 'smart.home.check.status -> smart.home.set.percentage': 2,\n",
       " 'smart.home.check.status -> smart.home.device.onoff': 2,\n",
       " 'smart.home.set.level -> smart.home.set.percentage': 2,\n",
       " 'smart.home.decrease.percentage -> smart.home.set.percentage': 5,\n",
       " 'smart.home.decrease.percentage -> smart.home.set.level': 5,\n",
       " 'smart.home.set.percentage -> smart.home.device.onoff': 5,\n",
       " 'smart.home.increase.percentage -> greeting': 5,\n",
       " 'smart.home.increase.percentage -> smart.home.increase.level': 5,\n",
       " 'smart.home.set.level -> smart.home.device.onoff': 6,\n",
       " 'smart.home.decrease.percentage -> smart.home.decrease.level': 7,\n",
       " 'smart.home.set.percentage -> smart.home.set.level': 9}"
      ]
     },
     "execution_count": 25,
     "metadata": {},
     "output_type": "execute_result"
    }
   ],
   "source": [
    "dict(sorted(pset.items(), key=lambda item: item[1]))"
   ]
  }
 ],
 "metadata": {
  "kernelspec": {
   "display_name": "Python 3",
   "language": "python",
   "name": "python3"
  },
  "language_info": {
   "codemirror_mode": {
    "name": "ipython",
    "version": 3
   },
   "file_extension": ".py",
   "mimetype": "text/x-python",
   "name": "python",
   "nbconvert_exporter": "python",
   "pygments_lexer": "ipython3",
   "version": "3.6.13"
  }
 },
 "nbformat": 4,
 "nbformat_minor": 5
}

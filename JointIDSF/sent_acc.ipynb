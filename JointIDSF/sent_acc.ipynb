{
 "cells": [
  {
   "cell_type": "code",
   "execution_count": 2,
   "metadata": {},
   "outputs": [],
   "source": [
    "with open('predictions.txt', 'r') as f:\n",
    "    text = f.read().splitlines()"
   ]
  },
  {
   "cell_type": "code",
   "execution_count": 3,
   "metadata": {},
   "outputs": [],
   "source": [
    "intents = []\n",
    "slots = []\n",
    "for sent in text:\n",
    "    sent = sent.split()\n",
    "    label = sent[0][1:-1]\n",
    "    tag = []\n",
    "    for w in sent[2:]:\n",
    "        if w[0] != '[':\n",
    "            tag.append('O')\n",
    "        else:\n",
    "            tag.append(w.split(':')[1][:-1])\n",
    "    tag = ' '.join(tag)\n",
    "    intents.append(label)\n",
    "    slots.append(tag)"
   ]
  },
  {
   "cell_type": "code",
   "execution_count": 15,
   "metadata": {},
   "outputs": [],
   "source": [
    "with open('BKAI/syllable-level/dev/label', 'r') as f:\n",
    "    true_intents = f.read().splitlines()\n",
    "with open('BKAI/syllable-level/dev/seq.out', 'r') as f:\n",
    "    true_slots = f.read().splitlines()\n",
    "    \n",
    "with open('BKAI/syllable-level/dev/seq.in', 'r') as f:\n",
    "    text = f.read().splitlines()\n",
    "    "
   ]
  },
  {
   "cell_type": "code",
   "execution_count": 11,
   "metadata": {},
   "outputs": [],
   "source": [
    "acc = 0\n",
    "err = []\n",
    "for i in range(len(intents)):\n",
    "    if intents[i] == true_intents[i] and slots[i] == true_slots[i]:\n",
    "        acc += 1\n",
    "    else:\n",
    "        err.append(i)"
   ]
  },
  {
   "cell_type": "code",
   "execution_count": 18,
   "metadata": {},
   "outputs": [],
   "source": [
    "with open('errors.txt', 'w') as f:\n",
    "    f.write('Sentence|True intent|Pred intent|True slots|Pred slots\\n')\n",
    "    for i in err:\n",
    "        f.write(f'{text[i]}|{true_intents[i]}|{intents[i]}|{true_slots[i]}|{slots[i]}' + '\\n')"
   ]
  },
  {
   "cell_type": "code",
   "execution_count": 14,
   "metadata": {},
   "outputs": [
    {
     "data": {
      "text/plain": [
       "157"
      ]
     },
     "execution_count": 14,
     "metadata": {},
     "output_type": "execute_result"
    }
   ],
   "source": []
  },
  {
   "cell_type": "code",
   "execution_count": null,
   "metadata": {},
   "outputs": [],
   "source": []
  }
 ],
 "metadata": {
  "interpreter": {
   "hash": "4d38669dae7dd8e712378e2229930ed776407cb171556b45c3bac08a55065e6d"
  },
  "kernelspec": {
   "display_name": "Python 3.7.10 ('ner')",
   "language": "python",
   "name": "python3"
  },
  "language_info": {
   "codemirror_mode": {
    "name": "ipython",
    "version": 3
   },
   "file_extension": ".py",
   "mimetype": "text/x-python",
   "name": "python",
   "nbconvert_exporter": "python",
   "pygments_lexer": "ipython3",
   "version": "3.7.10"
  },
  "orig_nbformat": 4
 },
 "nbformat": 4,
 "nbformat_minor": 2
}

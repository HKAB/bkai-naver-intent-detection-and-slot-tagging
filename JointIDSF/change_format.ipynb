{
 "cells": [
  {
   "cell_type": "code",
   "execution_count": 14,
   "metadata": {},
   "outputs": [],
   "source": [
    "with open('predictions.txt', 'r') as f:\n",
    "    text = f.read().splitlines()"
   ]
  },
  {
   "cell_type": "code",
   "execution_count": 15,
   "metadata": {},
   "outputs": [],
   "source": [
    "out = []\n",
    "for sent in text:\n",
    "    sent = sent.split()\n",
    "    label = sent[0][1:-1]\n",
    "    tag = []\n",
    "    for w in sent[2:]:\n",
    "        if w[0] != '[':\n",
    "            tag.append('O')\n",
    "        else:\n",
    "            tag.append(w.split(':')[1][:-1])\n",
    "    tag = ' '.join(tag)\n",
    "    out.append(f'{label}, {tag}')"
   ]
  },
  {
   "cell_type": "code",
   "execution_count": 16,
   "metadata": {},
   "outputs": [],
   "source": [
    "with open('results.csv', 'w') as f:\n",
    "    f.write('\\n'.join(out))"
   ]
  },
  {
   "cell_type": "code",
   "execution_count": null,
   "metadata": {},
   "outputs": [],
   "source": []
  },
  {
   "cell_type": "code",
   "execution_count": null,
   "metadata": {},
   "outputs": [],
   "source": []
  }
 ],
 "metadata": {
  "interpreter": {
   "hash": "4d38669dae7dd8e712378e2229930ed776407cb171556b45c3bac08a55065e6d"
  },
  "kernelspec": {
   "display_name": "Python 3.7.10 ('ner')",
   "language": "python",
   "name": "python3"
  },
  "language_info": {
   "codemirror_mode": {
    "name": "ipython",
    "version": 3
   },
   "file_extension": ".py",
   "mimetype": "text/x-python",
   "name": "python",
   "nbconvert_exporter": "python",
   "pygments_lexer": "ipython3",
   "version": "3.7.10"
  },
  "orig_nbformat": 4
 },
 "nbformat": 4,
 "nbformat_minor": 2
}

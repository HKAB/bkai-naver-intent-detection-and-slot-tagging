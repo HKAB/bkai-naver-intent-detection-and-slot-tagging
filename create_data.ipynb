{
 "cells": [
  {
   "cell_type": "code",
   "execution_count": 1,
   "metadata": {},
   "outputs": [],
   "source": [
    "%load_ext autoreload\n",
    "%autoreload 2"
   ]
  },
  {
   "cell_type": "code",
   "execution_count": 2,
   "metadata": {},
   "outputs": [],
   "source": [
    "from augment import slotsub, rotate\n",
    "from preprocess import preprocess"
   ]
  },
  {
   "cell_type": "code",
   "execution_count": 3,
   "metadata": {},
   "outputs": [],
   "source": [
    "with open('data/training_data/seq.in', 'r') as fr:\n",
    "    text = fr.read().splitlines()\n",
    "with open('data/training_data/seq.out', 'r') as fr:\n",
    "    label = fr.read().splitlines()\n",
    "with open('data/training_data/label', 'r') as fr:\n",
    "    intent = fr.read().splitlines()"
   ]
  },
  {
   "cell_type": "code",
   "execution_count": 4,
   "metadata": {},
   "outputs": [],
   "source": [
    "text = [preprocess(s) for s in text]"
   ]
  },
  {
   "cell_type": "markdown",
   "metadata": {},
   "source": [
    "# Slot sub"
   ]
  },
  {
   "cell_type": "code",
   "execution_count": 7,
   "metadata": {},
   "outputs": [],
   "source": [
    "augment_text = []\n",
    "augment_label = []\n",
    "augment_intent = []\n",
    "num_samples = 1\n",
    "for s, l, i in zip(text, label, intent):\n",
    "    for _ in range(num_samples):\n",
    "        output = slotsub(s, l)\n",
    "        if output is not None:\n",
    "            new_text, new_label = output\n",
    "            assert len(new_text) == len(new_label)\n",
    "            # augment_text.append(' '.join(new_text[0]))\n",
    "            # augment_label.append(' '.join(new_label[0]))\n",
    "            augment_text.append(new_text[0])\n",
    "            augment_label.append(new_label[0])\n",
    "            augment_intent.append(i)"
   ]
  },
  {
   "cell_type": "markdown",
   "metadata": {},
   "source": [
    "# Rotate"
   ]
  },
  {
   "cell_type": "code",
   "execution_count": 11,
   "metadata": {},
   "outputs": [],
   "source": [
    "r_augment_text, r_augment_label, r_augment_intent = rotate(text, label, intent)\n",
    "augment_text += r_augment_text\n",
    "augment_label += r_augment_label\n",
    "augment_intent += r_augment_intent"
   ]
  },
  {
   "cell_type": "code",
   "execution_count": 12,
   "metadata": {},
   "outputs": [
    {
     "data": {
      "text/plain": [
       "('Rotate augment size: ', 948)"
      ]
     },
     "execution_count": 12,
     "metadata": {},
     "output_type": "execute_result"
    }
   ],
   "source": [
    "'Rotate augment size: ', len(r_augment_text)"
   ]
  },
  {
   "cell_type": "code",
   "execution_count": 13,
   "metadata": {},
   "outputs": [],
   "source": [
    "augment_text += text\n",
    "augment_label += label\n",
    "augment_intent += intent"
   ]
  },
  {
   "cell_type": "code",
   "execution_count": 14,
   "metadata": {},
   "outputs": [
    {
     "data": {
      "text/plain": [
       "('Before', 1790, ', After: ', 4496)"
      ]
     },
     "execution_count": 14,
     "metadata": {},
     "output_type": "execute_result"
    }
   ],
   "source": [
    "'Before', len(text), \", After: \", len(augment_text)"
   ]
  },
  {
   "cell_type": "code",
   "execution_count": 15,
   "metadata": {},
   "outputs": [],
   "source": [
    "with open('data/training_data/rs_augment_seq.in', 'w') as f:\n",
    "    f.write('\\n'.join(augment_text))\n",
    "with open('data/training_data/rs_augment_seq.out', 'w') as f:\n",
    "    f.write('\\n'.join(augment_label))\n",
    "with open('data/training_data/rs_augment_intent_label.txt', 'w') as f:\n",
    "    f.write('\\n'.join(augment_intent))"
   ]
  },
  {
   "cell_type": "markdown",
   "metadata": {},
   "source": [
    "# Remove O tag"
   ]
  },
  {
   "cell_type": "code",
   "execution_count": 23,
   "metadata": {},
   "outputs": [],
   "source": [
    "no_O_text = []\n",
    "no_O_label = []\n",
    "no_O_intent = []\n",
    "for t, l in zip(text, label):\n",
    "    new_text, new_label = [], []\n",
    "    for word, word_label in zip(t.split(), l.split()):\n",
    "        if (word_label != \"O\"):\n",
    "            new_text.append(word)\n",
    "            new_label.append(word_label)\n",
    "    no_O_text.append(' '.join(w for w in new_text))\n",
    "    no_O_label.append(' '.join(w for w in new_label))\n",
    "no_O_intent = intent"
   ]
  },
  {
   "cell_type": "code",
   "execution_count": 25,
   "metadata": {},
   "outputs": [],
   "source": [
    "with open('data/training_data/no_O_seq.in', 'w') as f:\n",
    "    f.write('\\n'.join(no_O_text))\n",
    "with open('data/training_data/no_O_seq.out', 'w') as f:\n",
    "    f.write('\\n'.join(no_O_label))\n",
    "with open('data/training_data/no_O_label', 'w') as f:\n",
    "    f.write('\\n'.join(no_O_intent))"
   ]
  }
 ],
 "metadata": {
  "interpreter": {
   "hash": "4d38669dae7dd8e712378e2229930ed776407cb171556b45c3bac08a55065e6d"
  },
  "kernelspec": {
   "display_name": "Python 3",
   "language": "python",
   "name": "python3"
  },
  "language_info": {
   "codemirror_mode": {
    "name": "ipython",
    "version": 3
   },
   "file_extension": ".py",
   "mimetype": "text/x-python",
   "name": "python",
   "nbconvert_exporter": "python",
   "pygments_lexer": "ipython3",
   "version": "3.6.13"
  }
 },
 "nbformat": 4,
 "nbformat_minor": 4
}

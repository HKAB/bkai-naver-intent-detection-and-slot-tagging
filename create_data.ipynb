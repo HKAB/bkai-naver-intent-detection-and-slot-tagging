{
 "cells": [
  {
   "cell_type": "code",
   "execution_count": 45,
   "metadata": {},
   "outputs": [],
   "source": [
    "%load_ext autoreload\n",
    "%autoreload 2"
   ]
  },
  {
   "cell_type": "code",
   "execution_count": 70,
   "metadata": {},
   "outputs": [],
   "source": [
    "from augment import slotsub\n",
    "from preprocess import preprocess"
   ]
  },
  {
   "cell_type": "code",
   "execution_count": 75,
   "metadata": {},
   "outputs": [],
   "source": [
    "with open('data/training_data/seq.in', 'r') as fr:\n",
    "    text = fr.read().splitlines()\n",
    "with open('data/training_data/seq.out', 'r') as fr:\n",
    "    label = fr.read().splitlines()\n",
    "with open('data/training_data/label', 'r') as fr:\n",
    "    intent = fr.read().splitlines()"
   ]
  },
  {
   "cell_type": "code",
   "execution_count": 76,
   "metadata": {},
   "outputs": [],
   "source": [
    "text = [preprocess(s) for s in text]"
   ]
  },
  {
   "cell_type": "code",
   "execution_count": 78,
   "metadata": {},
   "outputs": [],
   "source": [
    "augment_text = []\n",
    "augment_label = []\n",
    "augment_intent = []\n",
    "num_samples = 4\n",
    "for s, l, i in zip(text, label, intent):\n",
    "    for _ in range(num_samples):\n",
    "        output = slotsub(s, l)\n",
    "        if output is not None:\n",
    "            new_text, new_label = output\n",
    "            assert len(new_text) == len(new_label)\n",
    "            # augment_text.append(' '.join(new_text[0]))\n",
    "            # augment_label.append(' '.join(new_label[0]))\n",
    "            augment_text.append(new_text[0])\n",
    "            augment_label.append(new_label[0])\n",
    "            augment_intent.append(i)\n",
    "augment_text += text\n",
    "augment_label += label\n",
    "augment_intent += intent"
   ]
  },
  {
   "cell_type": "code",
   "execution_count": 81,
   "metadata": {},
   "outputs": [],
   "source": [
    "\n",
    "with open('data/training_data/augment_seq.in', 'w') as f:\n",
    "    f.write('\\n'.join(augment_text))\n",
    "with open('data/training_data/augment_seq.out', 'w') as f:\n",
    "    f.write('\\n'.join(augment_label))\n",
    "with open('data/training_data/augment_intent_label.txt', 'w') as f:\n",
    "    f.write('\\n'.join(augment_intent))"
   ]
  },
  {
   "cell_type": "code",
   "execution_count": null,
   "metadata": {},
   "outputs": [],
   "source": []
  }
 ],
 "metadata": {
  "interpreter": {
   "hash": "4d38669dae7dd8e712378e2229930ed776407cb171556b45c3bac08a55065e6d"
  },
  "kernelspec": {
   "display_name": "Python 3.7.10 ('ner')",
   "language": "python",
   "name": "python3"
  },
  "language_info": {
   "codemirror_mode": {
    "name": "ipython",
    "version": 3
   },
   "file_extension": ".py",
   "mimetype": "text/x-python",
   "name": "python",
   "nbconvert_exporter": "python",
   "pygments_lexer": "ipython3",
   "version": "3.7.10"
  },
  "orig_nbformat": 4
 },
 "nbformat": 4,
 "nbformat_minor": 2
}
